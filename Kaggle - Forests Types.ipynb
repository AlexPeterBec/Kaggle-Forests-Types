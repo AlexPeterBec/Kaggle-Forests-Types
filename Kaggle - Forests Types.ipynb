{
 "cells": [
  {
   "cell_type": "code",
   "execution_count": 36,
   "metadata": {
    "ExecuteTime": {
     "end_time": "2018-11-17T15:22:04.435499Z",
     "start_time": "2018-11-17T15:22:03.289148Z"
    },
    "collapsed": true
   },
   "outputs": [],
   "source": [
    "import pandas as pd\n",
    "import numpy as np\n",
    "import matplotlib.pyplot as plt\n",
    "from collections import OrderedDict\n",
    "\n",
    "import numpy as np\n",
    "import pandas as pd\n",
    "\n",
    "from sklearn.model_selection import train_test_split, GridSearchCV, RandomizedSearchCV\n",
    "import matplotlib.pyplot as plt\n",
    "import seaborn as sns\n",
    "\n",
    "from sklearn.neighbors import KNeighborsClassifier\n",
    "#from xgboost import XGBClassifier\n",
    "from sklearn.linear_model import LogisticRegression\n",
    "from sklearn.ensemble import RandomForestClassifier, VotingClassifier, AdaBoostClassifier, ExtraTreesClassifier\n",
    "from sklearn.naive_bayes import GaussianNB\n",
    "from sklearn.tree import DecisionTreeClassifier"
   ]
  },
  {
   "cell_type": "markdown",
   "metadata": {},
   "source": [
    "# Loading and Exploring data"
   ]
  },
  {
   "cell_type": "markdown",
   "metadata": {},
   "source": [
    "## Loading data"
   ]
  },
  {
   "cell_type": "markdown",
   "metadata": {},
   "source": [
    "Here we define the dataframes from CSV files :\n",
    "- **Training Data**\n",
    "- **Testing Data** for making submission.\n",
    "- **Sample Data** is a portion of Training data to run Grid Search faster.\n",
    "\n",
    "The **Submission function** will be used to conveniently make submissions."
   ]
  },
  {
   "cell_type": "code",
   "execution_count": 40,
   "metadata": {
    "ExecuteTime": {
     "end_time": "2018-11-17T15:23:37.417397Z",
     "start_time": "2018-11-17T15:23:32.113107Z"
    }
   },
   "outputs": [
    {
     "name": "stdout",
     "output_type": "stream",
     "text": [
      "56  columns. 528720  observations.\n",
      "55  columns. 226595  observations.\n",
      "Index(['Id', 'Elevation', 'Aspect', 'Slope',\n",
      "       'Horizontal_Distance_To_Hydrology', 'Vertical_Distance_To_Hydrology',\n",
      "       'Horizontal_Distance_To_Roadways', 'Hillshade_9am', 'Hillshade_Noon',\n",
      "       'Hillshade_3pm', 'Horizontal_Distance_To_Fire_Points',\n",
      "       'Wilderness_Area1', 'Wilderness_Area2', 'Wilderness_Area3',\n",
      "       'Wilderness_Area4', 'Soil_Type1', 'Soil_Type2', 'Soil_Type3',\n",
      "       'Soil_Type4', 'Soil_Type5', 'Soil_Type6', 'Soil_Type7', 'Soil_Type8',\n",
      "       'Soil_Type9', 'Soil_Type10', 'Soil_Type11', 'Soil_Type12',\n",
      "       'Soil_Type13', 'Soil_Type14', 'Soil_Type15', 'Soil_Type16',\n",
      "       'Soil_Type17', 'Soil_Type18', 'Soil_Type19', 'Soil_Type20',\n",
      "       'Soil_Type21', 'Soil_Type22', 'Soil_Type23', 'Soil_Type24',\n",
      "       'Soil_Type25', 'Soil_Type26', 'Soil_Type27', 'Soil_Type28',\n",
      "       'Soil_Type29', 'Soil_Type30', 'Soil_Type31', 'Soil_Type32',\n",
      "       'Soil_Type33', 'Soil_Type34', 'Soil_Type35', 'Soil_Type36',\n",
      "       'Soil_Type37', 'Soil_Type38', 'Soil_Type39', 'Soil_Type40'],\n",
      "      dtype='object')\n"
     ]
    }
   ],
   "source": [
    "df_train = pd.read_csv(\"train-set.csv\")\n",
    "df_test = pd.read_csv(\"test-set.csv\")\n",
    "df_sample = df_train.sample(n=50000)\n",
    "\n",
    "# Submission function\n",
    "def submission(df_test, y_test, sub_nb='0'):\n",
    "    dict_sub = OrderedDict([('Id', df_test.Id), ('Cover_Type', y_test)])\n",
    "    df_sub = pd.DataFrame.from_dict(dict_sub)\n",
    "    df_sub.to_csv('submission/forest_submission00'+sub_nb+'.csv', index=False)\n",
    "    print(\"Submission file number \"+sub_nb+\" was created.\")\n",
    "\n",
    "# Exploring the Datasets\n",
    "print(df_train.shape[1], \" columns.\", df_train.shape[0], \" observations.\")\n",
    "print(df_test.shape[1], \" columns.\", df_test.shape[0], \" observations.\")\n",
    "print(df_test.columns)\n",
    "\n",
    "X_train = df_train.loc[:, df_train.columns != 'Cover_Type']\n",
    "y_train = df_train.Cover_Type"
   ]
  },
  {
   "cell_type": "markdown",
   "metadata": {},
   "source": [
    "- Elevation quantitative meters Elevation in meters\n",
    "- Aspect quantitative azimuth Aspect in degrees azimuth\n",
    "- Slope quantitative degrees Slope in degrees\n",
    "- Horizontal_Distance_To_Hydrology quantitative meters Horz Dist to nearest surface water features\n",
    "- Vertical_Distance_To_Hydrology quantitative meters Vert Dist to nearest surface water features\n",
    "- Horizontal_Distance_To_Roadways quantitative meters Horz Dist to nearest roadway\n",
    "- Hillshade_9am quantitative 0 to 255 index Hillshade index at 9am, summer solstice\n",
    "- Hillshade_Noon quantitative 0 to 255 index Hillshade index at noon, summer soltice\n",
    "- Hillshade_3pm quantitative 0 to 255 index Hillshade index at 3pm, summer solstice\n",
    "- Horizontal_Distance_To_Fire_Points quantitative meters Horz Dist to nearest wildfire ignition points\n",
    "- Wilderness_Area (4 binary columns) qualitative 0 (absence) or 1 (presence) Wilderness area designation\n",
    "- Soil_Type (40 binary columns) qualitative 0 (absence) or 1 (presence) Soil Type designation\n",
    "- Cover_Type (7 types) integer 1 to 7 Forest Cover Type designation"
   ]
  },
  {
   "cell_type": "markdown",
   "metadata": {},
   "source": [
    "## Exploring data"
   ]
  },
  {
   "cell_type": "code",
   "execution_count": 41,
   "metadata": {
    "ExecuteTime": {
     "end_time": "2018-11-17T15:23:45.595845Z",
     "start_time": "2018-11-17T15:23:42.022137Z"
    }
   },
   "outputs": [
    {
     "data": {
      "image/png": "[encoded data removed]",
      "text/plain": [
       "<matplotlib.figure.Figure at 0x1a1cc6d588>"
      ]
     },
     "metadata": {},
     "output_type": "display_data"
    }
   ],
   "source": [
    "fig, ax = plt.subplots(figsize=(12,8))\n",
    "ax = sns.heatmap(X_train.corr(), xticklabels=False, yticklabels=False)\n",
    "plt.show()"
   ]
  },
  {
   "cell_type": "markdown",
   "metadata": {},
   "source": [
    "We can clearly see on this correlation matrix heatmap that the first variables are the modt relevant and the soil-type variables are less important as they are a one-hot encoder and hold a lot of zero values. We may ignore them to lighten computations."
   ]
  },
  {
   "cell_type": "markdown",
   "metadata": {},
   "source": [
    "## Google Cloud Platform "
   ]
  },
  {
   "cell_type": "markdown",
   "metadata": {},
   "source": [
    "For this competition, the training set is voluminous and I realized training machine learning models on my laptop was in some cases very long. So I took this challenge as an opportunity to learn : \n",
    "- Taking first steps with Google Cloud environment.\n",
    "- Launching a VM instance with appropriate setup and take advantage of the free tier offer.\n",
    "- Connect to the VM, transfer working data, installing Jupyter Notebook\n",
    "- Train models without having my laptop running all night.\n",
    "\n",
    "I learned a lot about GCP and I find this is as important tool for the data scientist as cloud platforms are very common now in tech companies, it is a cheap and efficient way to get good computation ressources. I will for sure keep on learning on cloud environments.\n",
    "\n",
    "Observations :\n",
    "- Computation time is shorter for training models.\n",
    "- Easy to find good learning materials for cloud platforms.\n",
    "- GCP offers 300$ credits which is more than enough for several months."
   ]
  },
  {
   "cell_type": "markdown",
   "metadata": {},
   "source": [
    "# Dataviz"
   ]
  },
  {
   "cell_type": "markdown",
   "metadata": {},
   "source": [
    "## Features exploration"
   ]
  },
  {
   "cell_type": "code",
   "execution_count": 22,
   "metadata": {},
   "outputs": [
    {
     "data": {
      "image/png": "[encoded data removed]",
      "text/plain": [
       "<matplotlib.figure.Figure at 0x1a291f6f28>"
      ]
     },
     "metadata": {},
     "output_type": "display_data"
    }
   ],
   "source": [
    "import matplotlib.gridspec as gridspec\n",
    "\n",
    "def get_axes( gs, plt, rows, cols ):\n",
    "    axes = list()\n",
    "    for i in range(rows):\n",
    "        for j in range(cols):\n",
    "            axes.append( plt.subplot( gs[i,j] ) )\n",
    "    return axes\n",
    "\n",
    "rows, cols = 3, 4\n",
    "fig  = plt.figure(figsize=(12, 8))\n",
    "gs   = gridspec.GridSpec(rows, cols)\n",
    "axes = get_axes( gs, plt, rows, cols )\n",
    "\n",
    "plot_these = df_train.columns[:10]\n",
    "\n",
    "for i, feature_name in enumerate(plot_these):\n",
    "    df_train[feature_name].hist(ax=axes[i], bins=20)\n",
    "    axes[i].set_xlabel(feature_name)\n",
    "axes[10].axis('off')\n",
    "axes[11].axis('off')\n",
    "plt.tight_layout()\n",
    "\n",
    "plt.show()"
   ]
  },
  {
   "cell_type": "markdown",
   "metadata": {},
   "source": [
    "## Elevation Data"
   ]
  },
  {
   "cell_type": "code",
   "execution_count": 3,
   "metadata": {},
   "outputs": [
    {
     "data": {
      "image/png": "[encoded data removed]",
      "text/plain": [
       "<matplotlib.figure.Figure at 0x1a107c7940>"
      ]
     },
     "metadata": {},
     "output_type": "display_data"
    }
   ],
   "source": [
    "# Plotting Elevation data\n",
    "plt.figure(figsize=(6,4))\n",
    "label=['Cover ' + str(x) for x in range(1,8)]\n",
    "for i in range(7):\n",
    "    ax = plt.hist(df_train.Elevation[df_train.Cover_Type==i+1],label=label[i], bins=20,stacked=True)\n",
    "plt.legend()\n",
    "plt.xlabel('Elevation (m)')\n",
    "plt.show()"
   ]
  },
  {
   "cell_type": "markdown",
   "metadata": {},
   "source": [
    "We can see elevation is important in the classification. At first sight we can identity value intervals."
   ]
  },
  {
   "cell_type": "markdown",
   "metadata": {},
   "source": [
    "## Hill Shades"
   ]
  },
  {
   "cell_type": "code",
   "execution_count": 4,
   "metadata": {},
   "outputs": [
    {
     "data": {
      "image/png": "[encoded data removed]",
      "text/plain": [
       "<matplotlib.figure.Figure at 0x1038d96d8>"
      ]
     },
     "metadata": {},
     "output_type": "display_data"
    }
   ],
   "source": [
    "colors = ['b','r','k','y','m','c','g']\n",
    "plt.figure(figsize=(6,4))\n",
    "for i in range(7):\n",
    "    plt.scatter(df_train.Hillshade_Noon[df_train.Cover_Type==i+1], df_train.Hillshade_3pm[df_train.Cover_Type==i+1], color=colors[i], label='Type' +str(i+1))\n",
    "plt.xlabel('Hillshade_Noon')\n",
    "plt.ylabel('Hillshade_3pm')\n",
    "plt.legend()\n",
    "plt.show()"
   ]
  },
  {
   "cell_type": "code",
   "execution_count": 5,
   "metadata": {},
   "outputs": [
    {
     "data": {
      "image/png": "[encoded data removed]",
      "text/plain": [
       "<matplotlib.figure.Figure at 0x103885630>"
      ]
     },
     "metadata": {},
     "output_type": "display_data"
    }
   ],
   "source": [
    "plt.figure(figsize=(6,4))\n",
    "for i in range(7):\n",
    "    plt.scatter(df_train.Hillshade_9am[df_train.Cover_Type==i+1], df_train.Hillshade_3pm[df_train.Cover_Type==i+1], color=colors[i], label='Type' +str(i+1))\n",
    "plt.xlabel('Hillshade_9am')\n",
    "plt.ylabel('Hillshade_3pm')\n",
    "plt.legend()\n",
    "plt.show()"
   ]
  },
  {
   "cell_type": "markdown",
   "metadata": {},
   "source": [
    "# Feature engineering"
   ]
  },
  {
   "cell_type": "markdown",
   "metadata": {},
   "source": [
    "I only added a value for water distance, but I am conscious there are more features to be created :\n",
    "- Combine the Soil Types columns.\n",
    "- Combine Hillshade data.\n",
    "- Combine "
   ]
  },
  {
   "cell_type": "markdown",
   "metadata": {},
   "source": [
    "## Combining water distance\n",
    "\n",
    "We can see distance to water is a pretty relevant feature to identify forest type.\n",
    "Here we combine horizontal and vertical distance to add a new variable."
   ]
  },
  {
   "cell_type": "code",
   "execution_count": 30,
   "metadata": {
    "ExecuteTime": {
     "end_time": "2018-11-16T16:38:39.684551Z",
     "start_time": "2018-11-16T16:38:09.555013Z"
    }
   },
   "outputs": [],
   "source": [
    "dist_to_water = df_train.loc[:, ['Horizontal_Distance_To_Hydrology', 'Vertical_Distance_To_Hydrology']]\\\n",
    "    .apply(lambda x: np.sqrt(x[0]**2 + x[1]**2), axis=1)\n",
    "dist_to_water_test = df_test.loc[:, ['Horizontal_Distance_To_Hydrology', 'Vertical_Distance_To_Hydrology']]\\\n",
    "    .apply(lambda x: np.sqrt(x[0]**2 + x[1]**2), axis=1)\n",
    "dist_to_water_sample = df_sample.loc[:, ['Horizontal_Distance_To_Hydrology', 'Vertical_Distance_To_Hydrology']]\\\n",
    "    .apply(lambda x: np.sqrt(x[0]**2 + x[1]**2), axis=1)\n",
    "\n",
    "dist_to_water = pd.DataFrame(dist_to_water, columns=['dist_to_water'])\n",
    "dist_to_water_test = pd.DataFrame(dist_to_water_test, columns=['dist_to_water_test'])\n",
    "dist_to_water_sample = pd.DataFrame(dist_to_water_sample, columns=['dist_to_water_test'])\n",
    "\n",
    "df_train = pd.concat([df_train, dist_to_water], axis=1)\n",
    "df_test = pd.concat([df_test, dist_to_water_test], axis=1)\n",
    "df_sample = pd.concat([df_sample, dist_to_water_sample], axis=1)"
   ]
  },
  {
   "cell_type": "markdown",
   "metadata": {},
   "source": [
    "# KNearestNeighbors\n",
    "\n",
    "We will start with a KNN classifier, associated with a GridSearchCV to find optimal parameters. \n",
    "- **Large scale grid-search :** df_sample of 20,000 records is used to go through around 3500 parameters combinations. In order to identify a zone for refined gridSearch.\n",
    "- **Reduced Grid-search :** Then we use the complete training set on a restrained set of values for the grid search."
   ]
  },
  {
   "cell_type": "code",
   "execution_count": null,
   "metadata": {
    "collapsed": true,
    "scrolled": true
   },
   "outputs": [],
   "source": [
    "X_train_partial = df_train[[\"Elevation\", \"Aspect\", \"Slope\", \"dist_to_water\", \"Horizontal_Distance_To_Hydrology\", \"Vertical_Distance_To_Hydrology\", \"Horizontal_Distance_To_Roadways\", \"Horizontal_Distance_To_Fire_Points\"]]\n",
    "X_train_full = df_train[df_train.columns.difference(['Cover_Type'])]\n",
    "Y_train = df_train.Cover_Type\n",
    "\n",
    "X_test_partial = df_test[[\"Elevation\", \"Aspect\", \"Slope\", \"dist_to_water\", \"Horizontal_Distance_To_Hydrology\", \"Vertical_Distance_To_Hydrology\", \"Horizontal_Distance_To_Roadways\", \"Horizontal_Distance_To_Fire_Points\"]]\n",
    "X_test_full = df_test[df_test.columns.difference(['Cover_Type'])]\n",
    "\n",
    "\n",
    "knn = KNeighborsClassifier()\n",
    "\n",
    "# Custom Values for KNN Parameters\n",
    "param_grid = {\n",
    "    'n_neighbors': [5, 10, 20, 30, 40],\n",
    "    'weights': ['uniform'],\n",
    "    'algorithm': ['auto'],\n",
    "    'leaf_size': [int(x) for x in np.linspace(start = 10, stop = 200, num = 8)],\n",
    "    'p': [1, 2, 3],\n",
    "    'metric': ['minkowski'], \n",
    "    'n_jobs': [1]\n",
    "}\n",
    "\n",
    "'''\n",
    "grid_search = GridSearchCV(\n",
    "    estimator = knn, param_grid = param_grid, \n",
    "    cv = 3, n_jobs = 1, verbose = 1)\n",
    "grid_search.fit(X_sample_partial, Y_train)\n",
    "grid_search.best_params_\n",
    "'''\n",
    "\n",
    "# USING BEST PARAMS FROM GRID SEARCH\n",
    "knn = KNeighborsClassifier(algorithm='auto', leaf_size=10, n_neighbors=5, weights='uniform')\n",
    "\n",
    "print(\"Fit & Predict for a subset of features\")\n",
    "knn.fit(X_train_partial, Y_train)\n",
    "#y_test = knn.predict(X_test_partial)\n",
    "#submission(df_test, y_test, sub_nb='1')\n",
    "\n",
    "#print('Fitting for complete train_set...')\n",
    "#knn.fit(X_train_full, Y_train_full)\n",
    "#print('Predicting for complete test_set...')\n",
    "#y_test = knn.predict(X_test_full)\n",
    "#submission(df_test, y_test, sub_nb='2')"
   ]
  },
  {
   "cell_type": "markdown",
   "metadata": {},
   "source": [
    "Submission 1 : **0.92144**\n",
    "\n",
    "Submission 2 : **0.41**\n",
    "\n",
    "- We can see KNeighbors gives pretty good results on a selected subset of features.\n",
    "- On the other hand, training on the full training set was very slow, and gave bad results. Maybe there was a mistake here."
   ]
  },
  {
   "cell_type": "markdown",
   "metadata": {},
   "source": [
    "# Voting Classifier : Mixing models\n"
   ]
  },
  {
   "cell_type": "markdown",
   "metadata": {},
   "source": [
    "As I read some articles about ensemble learning, I wanted to experiment mixing various simple models weighted by voting mechanism. Here I combine various models from Scikitlearn in a Voting Classifier : It is based on a simple majority rule to determine the weight of each algorithm.\n",
    "- Linear Regression\n",
    "- Decision Tree\n",
    "- Gaussian Naive Bayes\n",
    "- Random Forest\n",
    "- K Neighbors\n",
    "- Extra Trees\n",
    "\n",
    "Submission : **0.90877**"
   ]
  },
  {
   "cell_type": "code",
   "execution_count": 46,
   "metadata": {
    "ExecuteTime": {
     "end_time": "2018-11-17T15:49:33.002987Z",
     "start_time": "2018-11-17T15:49:32.995380Z"
    },
    "collapsed": true
   },
   "outputs": [],
   "source": [
    "lr = LogisticRegression(random_state=1)\n",
    "tree = DecisionTreeClassifier(random_state=1)\n",
    "gnb = GaussianNB()\n",
    "rfc = RandomForestClassifier(random_state=1)\n",
    "adab = AdaBoostClassifier(random_state=1)\n",
    "extratree = ExtraTreesClassifier(random_state=1)\n",
    "knn = KNeighborsClassifier(algorithm='auto', leaf_size=10, n_neighbors=5, weights='uniform')"
   ]
  },
  {
   "cell_type": "code",
   "execution_count": 48,
   "metadata": {
    "ExecuteTime": {
     "end_time": "2018-11-17T15:50:27.002814Z",
     "start_time": "2018-11-17T15:50:07.050131Z"
    },
    "scrolled": true
   },
   "outputs": [
    {
     "name": "stdout",
     "output_type": "stream",
     "text": [
      "Fitting models...\n",
      "Making predictions...\n"
     ]
    },
    {
     "name": "stderr",
     "output_type": "stream",
     "text": [
      "/Users/Alex/Programmes/Anaconda/anaconda3/lib/python3.6/site-packages/sklearn/preprocessing/label.py:151: DeprecationWarning: The truth value of an empty array is ambiguous. Returning False, but in future this will result in an error. Use `array.size > 0` to check that an array is not empty.\n",
      "  if diff:\n"
     ]
    },
    {
     "name": "stdout",
     "output_type": "stream",
     "text": [
      "Submission file number 3 was created.\n"
     ]
    }
   ],
   "source": [
    "X_train_sample = df_sample[df_sample.columns.difference(['Cover_Type'])]\n",
    "Y_train_sample = df_sample.Cover_Type\n",
    "\n",
    "model_test2 = VotingClassifier(\n",
    "        estimators=[\n",
    "            ('lr', lr), ('dt', tree), ('gnb', gnb), ('knn', knn), ('xtt', extratree)], \n",
    "        voting='soft')\n",
    "\n",
    "#model_test1.fit(X_train, Y_train)\n",
    "print(\"Fitting models...\")\n",
    "model_test2.fit(X_train_sample, Y_train_sample)\n",
    "\n",
    "print(\"Making predictions...\")\n",
    "X_test = df_test[df_test.columns.difference(['Cover_Type'])]\n",
    "Y_test = model_test2.predict(X_test)\n",
    "\n",
    "submission(df_test, Y_test, sub_nb='3')"
   ]
  },
  {
   "cell_type": "markdown",
   "metadata": {},
   "source": [
    "- VotingClassifier - Soft voting, sample 20.000 records fitting : **0.77**\n",
    "- VotingClassifier - Soft voting, sample 100.000 records fitting : **0.832**\n",
    "\n",
    "Finally, VotingClassifier gives good results, but less than KNNeighbors. Results seems to be better with more tuning and more training data. "
   ]
  },
  {
   "cell_type": "markdown",
   "metadata": {},
   "source": [
    "# Extra Tree Classifier"
   ]
  },
  {
   "cell_type": "markdown",
   "metadata": {},
   "source": [
    "I focused on extra tree classifier because it appeared to be the most efficient for this competition.\n",
    "\n",
    "Extra Tree Classifier (standing for **ext**remely **ra**ndomized **trees**) is a variant of Random Forest. Unlike a random forest, at each step the entire sample is used and decision boundaries are picked at random, rather than the best one. Performance is comparable to an ordinary random forest, sometimes a bit better. "
   ]
  },
  {
   "cell_type": "markdown",
   "metadata": {},
   "source": [
    "## Hyperparameter search "
   ]
  },
  {
   "cell_type": "markdown",
   "metadata": {},
   "source": [
    "- First define work data and model.\n",
    "- Grid Search and Randomized Search can be combined to go through a large set of hyperparameters."
   ]
  },
  {
   "cell_type": "code",
   "execution_count": 28,
   "metadata": {
    "ExecuteTime": {
     "end_time": "2018-11-16T15:42:43.186081Z",
     "start_time": "2018-11-16T15:42:43.102287Z"
    }
   },
   "outputs": [],
   "source": [
    "X_train_sample = df_sample[['Id', 'Elevation', 'Aspect', 'Slope', 'Horizontal_Distance_To_Hydrology', \n",
    "    'Vertical_Distance_To_Hydrology', 'Horizontal_Distance_To_Roadways', 'Hillshade_9am', \n",
    "    'Hillshade_Noon', 'Hillshade_3pm', 'Horizontal_Distance_To_Fire_Points',\n",
    "    'Wilderness_Area1', 'Wilderness_Area2', 'Wilderness_Area3', 'Wilderness_Area4']]\n",
    "Y_train_sample = df_sample.Cover_Type\n",
    "\n",
    "extratree = ExtraTreesClassifier(\n",
    "    bootstrap=False, \n",
    "    criterion='entropy', \n",
    "    #n_estimators=400,\n",
    "    min_samples_leaf=1, \n",
    "    random_state=1, \n",
    "    #max_depth=252, \n",
    "    max_features=None)"
   ]
  },
  {
   "cell_type": "markdown",
   "metadata": {
    "heading_collapsed": true
   },
   "source": [
    "###  Grid Search"
   ]
  },
  {
   "cell_type": "markdown",
   "metadata": {
    "hidden": true
   },
   "source": [
    "GridSearchCV goes through the entire parameter grid."
   ]
  },
  {
   "cell_type": "code",
   "execution_count": 29,
   "metadata": {
    "ExecuteTime": {
     "end_time": "2018-11-16T15:46:44.668092Z",
     "start_time": "2018-11-16T15:42:45.583358Z"
    },
    "hidden": true,
    "scrolled": true
   },
   "outputs": [
    {
     "name": "stdout",
     "output_type": "stream",
     "text": [
      "Fitting 4 folds for each of 2 candidates, totalling 8 fits\n",
      "[CV] bootstrap=False, criterion=entropy, max_depth=26, max_features=None, min_samples_split=2, n_estimators=400 \n",
      "[CV] bootstrap=False, criterion=entropy, max_depth=26, max_features=None, min_samples_split=2, n_estimators=400 \n",
      "[CV] bootstrap=False, criterion=entropy, max_depth=26, max_features=None, min_samples_split=2, n_estimators=400 \n",
      "[CV] bootstrap=False, criterion=entropy, max_depth=26, max_features=None, min_samples_split=2, n_estimators=400 \n",
      "[CV]  bootstrap=False, criterion=entropy, max_depth=26, max_features=None, min_samples_split=2, n_estimators=400, total= 1.5min\n",
      "[CV]  bootstrap=False, criterion=entropy, max_depth=26, max_features=None, min_samples_split=2, n_estimators=400, total= 1.5min\n",
      "[CV] bootstrap=True, criterion=entropy, max_depth=26, max_features=None, min_samples_split=2, n_estimators=400 \n",
      "[CV] bootstrap=True, criterion=entropy, max_depth=26, max_features=None, min_samples_split=2, n_estimators=400 \n",
      "[CV]  bootstrap=False, criterion=entropy, max_depth=26, max_features=None, min_samples_split=2, n_estimators=400, total= 1.5min\n",
      "[CV]  bootstrap=False, criterion=entropy, max_depth=26, max_features=None, min_samples_split=2, n_estimators=400, total= 1.5min\n",
      "[CV] bootstrap=True, criterion=entropy, max_depth=26, max_features=None, min_samples_split=2, n_estimators=400 \n",
      "[CV] bootstrap=True, criterion=entropy, max_depth=26, max_features=None, min_samples_split=2, n_estimators=400 \n",
      "[CV]  bootstrap=True, criterion=entropy, max_depth=26, max_features=None, min_samples_split=2, n_estimators=400, total= 1.1min\n",
      "[CV]  bootstrap=True, criterion=entropy, max_depth=26, max_features=None, min_samples_split=2, n_estimators=400, total= 1.1min\n",
      "[CV]  bootstrap=True, criterion=entropy, max_depth=26, max_features=None, min_samples_split=2, n_estimators=400, total= 1.1min\n",
      "[CV]  bootstrap=True, criterion=entropy, max_depth=26, max_features=None, min_samples_split=2, n_estimators=400, total= 1.1min\n"
     ]
    },
    {
     "name": "stderr",
     "output_type": "stream",
     "text": [
      "[Parallel(n_jobs=-1)]: Done   6 out of   8 | elapsed:  2.9min remaining:   58.2s\n",
      "[Parallel(n_jobs=-1)]: Done   8 out of   8 | elapsed:  2.9min finished\n"
     ]
    },
    {
     "data": {
      "text/plain": [
       "{'bootstrap': False,\n",
       " 'criterion': 'entropy',\n",
       " 'max_depth': 26,\n",
       " 'max_features': None,\n",
       " 'min_samples_split': 2,\n",
       " 'n_estimators': 400}"
      ]
     },
     "execution_count": 29,
     "metadata": {},
     "output_type": "execute_result"
    }
   ],
   "source": [
    "param_grid_xtt = {\n",
    "    'n_estimators': [400],\n",
    "    'criterion':['entropy'], \n",
    "    'max_depth':[26],\n",
    "    'min_samples_split':[2], \n",
    "    #'min_samples_leaf':range(1, 50, 5),\n",
    "    #'min_weight_fraction_leaf':[0.0], \n",
    "    'max_features':[None], \n",
    "    #'max_leaf_nodes':None, \n",
    "    #'min_impurity_decrease':[0.0], \n",
    "    #'min_impurity_split':None, \n",
    "    'bootstrap':[False], \n",
    "    #'oob_score':False, \n",
    "    #'warm_start':False, \n",
    "    #'class_weight':None\n",
    "}\n",
    "\n",
    "grid_search_xtt = GridSearchCV(\n",
    "    estimator = extratree, \n",
    "    cv = 4,\n",
    "    param_grid = param_grid_xtt,\n",
    "    verbose = 2,\n",
    "    n_jobs = -1\n",
    ")\n",
    "\n",
    "grid_search_xtt.fit(X_train_sample, Y_train_sample)\n",
    "grid_search_xtt.best_params_\n"
   ]
  },
  {
   "cell_type": "markdown",
   "metadata": {
    "heading_collapsed": true
   },
   "source": [
    "### Randomized Search"
   ]
  },
  {
   "cell_type": "markdown",
   "metadata": {
    "hidden": true
   },
   "source": [
    "Here we use RandomizedSearchCV.\n",
    "\n",
    "It uses random values from the param grid, it is a more efficient way to go over a large paramgrid."
   ]
  },
  {
   "cell_type": "code",
   "execution_count": null,
   "metadata": {
    "collapsed": true,
    "hidden": true
   },
   "outputs": [],
   "source": [
    "param_grid_xtt = {\n",
    "    'n_estimators': range(200, 300, 1),\n",
    "    #'criterion':['entropy'], \n",
    "    'max_depth':range(230, 300, 1),\n",
    "    #'min_samples_split':2, \n",
    "    #'min_samples_leaf':range(1, 50, 5),\n",
    "    #'min_weight_fraction_leaf':[0.0], \n",
    "    #'max_features':['auto', None, 'sqrt', 'log2'], \n",
    "    #'max_leaf_nodes':None, \n",
    "    #'min_impurity_decrease':[0.0], \n",
    "    #'min_impurity_split':None, \n",
    "    #'bootstrap':False, \n",
    "    #'oob_score':False, \n",
    "    #'n_jobs':None, \n",
    "    #'random_state':None,\n",
    "    #'warm_start':False, \n",
    "    #'class_weight':None\n",
    "}\n",
    "\n",
    "random_search_xtt = RandomizedSearchCV(\n",
    "    estimator = extratree, \n",
    "    param_distributions = param_grid_xtt, \n",
    "    n_iter = 10, \n",
    "    cv = 3, \n",
    "    verbose=1, \n",
    "    random_state=42, \n",
    "    n_jobs = 1)\n",
    "\n",
    "random_search_xtt.fit(X_train_sample, Y_train_sample)\n",
    "random_search_xtt.best_params_"
   ]
  },
  {
   "cell_type": "markdown",
   "metadata": {},
   "source": [
    "## Applying Extra Tree Classifier"
   ]
  },
  {
   "cell_type": "markdown",
   "metadata": {},
   "source": [
    "After finding good parameters with a sample dataset and our paramGrid, we apply it with the ExtraTreeClassifier."
   ]
  },
  {
   "cell_type": "code",
   "execution_count": 33,
   "metadata": {
    "ExecuteTime": {
     "end_time": "2018-11-16T17:36:54.900588Z",
     "start_time": "2018-11-16T17:21:27.012665Z"
    },
    "scrolled": true
   },
   "outputs": [
    {
     "name": "stdout",
     "output_type": "stream",
     "text": [
      "fitting..\n",
      "preidicting..\n",
      "making submission\n",
      "Submission file number 4 was created.\n"
     ]
    }
   ],
   "source": [
    "X_train_full = df_train[['Id', 'Elevation', 'Aspect', 'Slope', 'Horizontal_Distance_To_Hydrology', \n",
    "    'Vertical_Distance_To_Hydrology', 'Horizontal_Distance_To_Roadways', 'Hillshade_9am', \n",
    "    'Hillshade_Noon', 'Hillshade_3pm', 'Horizontal_Distance_To_Fire_Points',\n",
    "    'Wilderness_Area1', 'Wilderness_Area2', 'Wilderness_Area3', 'Wilderness_Area4']]\n",
    "Y_train_full = df_train.Cover_Type\n",
    "X_test_full = df_test[['Id', 'Elevation', 'Aspect', 'Slope', 'Horizontal_Distance_To_Hydrology', \n",
    "    'Vertical_Distance_To_Hydrology', 'Horizontal_Distance_To_Roadways', 'Hillshade_9am', \n",
    "    'Hillshade_Noon', 'Hillshade_3pm', 'Horizontal_Distance_To_Fire_Points',\n",
    "    'Wilderness_Area1', 'Wilderness_Area2', 'Wilderness_Area3', 'Wilderness_Area4']]\n",
    "\n",
    "extratree = ExtraTreesClassifier(\n",
    "    bootstrap=False, \n",
    "    criterion='entropy', \n",
    "    n_estimators=400, \n",
    "    min_samples_leaf=1, \n",
    "    random_state=1, \n",
    "    max_depth=26, \n",
    "    max_features=None \n",
    ")\n",
    "\n",
    "print(\"fitting..\")\n",
    "extratree.fit(X_train_full, Y_train_full)\n",
    "print(\"predicting..\")\n",
    "y_test = extratree.predict(X_test_full)\n",
    "\n",
    "print(\"making submission\")\n",
    "submission(df_test, y_test, sub_nb='4')"
   ]
  },
  {
   "cell_type": "markdown",
   "metadata": {
    "collapsed": true
   },
   "source": [
    "Score with Extra tree classifier : **0.95705**\n",
    "\n",
    "- bootstrap=False, \n",
    "- criterion='entropy', \n",
    "- n_estimators=400,\n",
    "- min_samples_leaf=1, \n",
    "- random_state=1, \n",
    "- max_depth=26, \n",
    "- max_features=None\n",
    "\n",
    "This model gives the best results, after searching with a randomized search.\n",
    "\n",
    "Randomized Search takes a sample of the parameters, and does not try all the combinations like a classic grid search. This is a better mean to find optimal parameters, instead of fitting with a smaller training set."
   ]
  },
  {
   "cell_type": "markdown",
   "metadata": {
    "collapsed": true
   },
   "source": [
    "# Voting Classifier : Extra Tree and KNN"
   ]
  },
  {
   "cell_type": "code",
   "execution_count": 12,
   "metadata": {},
   "outputs": [
    {
     "name": "stdout",
     "output_type": "stream",
     "text": [
      "Fitting models...\n",
      "Making predictions...\n"
     ]
    },
    {
     "name": "stderr",
     "output_type": "stream",
     "text": [
      "/Users/Alex/Programmes/Anaconda/anaconda3/lib/python3.6/site-packages/sklearn/preprocessing/label.py:151: DeprecationWarning: The truth value of an empty array is ambiguous. Returning False, but in future this will result in an error. Use `array.size > 0` to check that an array is not empty.\n",
      "  if diff:\n"
     ]
    },
    {
     "name": "stdout",
     "output_type": "stream",
     "text": [
      "Making submission..\n",
      "Submission file number 5 was created.\n"
     ]
    }
   ],
   "source": [
    "X_train_partial = df_train[['Elevation', 'Aspect', 'Slope',\n",
    "       'Horizontal_Distance_To_Hydrology', 'Vertical_Distance_To_Hydrology',\n",
    "       'Horizontal_Distance_To_Roadways', 'Hillshade_9am', 'Hillshade_Noon',\n",
    "       'Hillshade_3pm', 'Horizontal_Distance_To_Fire_Points',\n",
    "       'Wilderness_Area1', 'Wilderness_Area2', 'Wilderness_Area3',\n",
    "       'Wilderness_Area4']]\n",
    "X_test_partial = df_test[['Elevation', 'Aspect', 'Slope',\n",
    "       'Horizontal_Distance_To_Hydrology', 'Vertical_Distance_To_Hydrology',\n",
    "       'Horizontal_Distance_To_Roadways', 'Hillshade_9am', 'Hillshade_Noon',\n",
    "       'Hillshade_3pm', 'Horizontal_Distance_To_Fire_Points',\n",
    "       'Wilderness_Area1', 'Wilderness_Area2', 'Wilderness_Area3',\n",
    "       'Wilderness_Area4']]\n",
    "\n",
    "knn = KNeighborsClassifier(\n",
    "    algorithm='auto', \n",
    "    leaf_size=10, \n",
    "    n_neighbors=5, \n",
    "    weights='uniform')\n",
    "\n",
    "extratree = ExtraTreesClassifier(\n",
    "    bootstrap=False, \n",
    "    criterion='entropy', \n",
    "    n_estimators=400,\n",
    "    min_samples_leaf=1, \n",
    "    random_state=1, \n",
    "    max_depth=252, \n",
    "    max_features=None)\n",
    "\n",
    "voting2 = VotingClassifier(estimators=[('knn', knn), ('xtc', extratree)], voting='hard')\n",
    "\n",
    "print(\"Fitting models...\")\n",
    "voting2.fit(X_train_partial, Y_train_full)\n",
    "\n",
    "print(\"Making predictions...\")\n",
    "y_test = voting2.predict(X_test_partial)\n",
    "\n",
    "print(\"Making submission..\")\n",
    "submission(df_test, y_test, sub_nb='5')"
   ]
  },
  {
   "cell_type": "markdown",
   "metadata": {},
   "source": [
    "I expected an improvement by combining those models but it didn't."
   ]
  },
  {
   "cell_type": "markdown",
   "metadata": {},
   "source": [
    "# Conclusion\n",
    "\n",
    "This kaggle competition was a good introduction to data/ML challenges.\n",
    "- It was a good way to experiment a wide range of algorithms and compare them. \n",
    "- Learning to use cloud platforms for machine learning was very interesting."
   ]
  }
 ],
 "metadata": {
  "kernelspec": {
   "display_name": "Python 3",
   "language": "python",
   "name": "python3"
  },
  "language_info": {
   "codemirror_mode": {
    "name": "ipython",
    "version": 3
   },
   "file_extension": ".py",
   "mimetype": "text/x-python",
   "name": "python",
   "nbconvert_exporter": "python",
   "pygments_lexer": "ipython3",
   "version": "3.6.2"
  },
  "toc": {
   "base_numbering": 1,
   "nav_menu": {},
   "number_sections": true,
   "sideBar": true,
   "skip_h1_title": false,
   "title_cell": "Table of Contents",
   "title_sidebar": "Contents",
   "toc_cell": false,
   "toc_position": {},
   "toc_section_display": true,
   "toc_window_display": true
  }
 },
 "nbformat": 4,
 "nbformat_minor": 2
}
